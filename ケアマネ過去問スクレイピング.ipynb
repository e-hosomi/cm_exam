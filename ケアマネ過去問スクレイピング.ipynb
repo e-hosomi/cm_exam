{
 "cells": [
  {
   "cell_type": "code",
   "execution_count": 2,
   "id": "84d7d5e8",
   "metadata": {},
   "outputs": [],
   "source": [
    "#htmlを解析しデータを抽出するためのライブラリ\n",
    "from bs4 import BeautifulSoup\n",
    "\n",
    "#httpリクエストを行うためのライブラリ\n",
    "#webページの情報を取得する\n",
    "import requests\n",
    "\n",
    "#すべて表示するプリント\n",
    "from pprint import pprint\n",
    "\n",
    "#問題を日数に割り当てるためのライブラリ\n",
    "from datetime import datetime, timedelta"
   ]
  },
  {
   "cell_type": "code",
   "execution_count": 3,
   "id": "a36ba3dc",
   "metadata": {},
   "outputs": [],
   "source": [
    "def get_soup(url):\n",
    "    # requestsを使ってURLからHTMLコンテンツを取得\n",
    "    response = requests.get(url)\n",
    "\n",
    "    # 取得したHTMLコンテンツ\n",
    "    html_content = response.text\n",
    "\n",
    "    # BeautifulSoupを使ってHTMLを解析\n",
    "    soup = BeautifulSoup(html_content, 'html.parser')\n",
    "\n",
    "    return soup\n",
    "\n",
    "def get_find_a(soup,url):\n",
    "    #配列を宣言\n",
    "    links = []\n",
    "    # 特定の条件にマッチするすべてのリンクを検索し、表示\n",
    "    for link in soup.find_all('a', href=True):\n",
    "        href = link['href']\n",
    "        # 'https://kakomonn.com/keamane/list1/'で始まるURLに限定\n",
    "        if href.startswith(url):\n",
    "            links.append(href)\n",
    "    return links"
   ]
  },
  {
   "cell_type": "code",
   "execution_count": 4,
   "id": "fba1a797",
   "metadata": {},
   "outputs": [],
   "source": [
    "#メインページのsoup\n",
    "soup_main = get_soup('https://kakomonn.com/keamane')\n",
    "home_links = get_find_a(soup_main,'https://kakomonn.com/keamane/list1/')"
   ]
  },
  {
   "cell_type": "code",
   "execution_count": 5,
   "id": "ad1a2e37",
   "metadata": {},
   "outputs": [],
   "source": [
    "ques_ini_num = []\n",
    "for link in home_links:\n",
    "    soup_sub = get_soup(link)\n",
    "    ques_links = get_find_a(soup_sub, 'https://kakomonn.com/keamane/questions/')\n",
    "    url = str(ques_links[0])\n",
    "    ques_ini_num.append(url[-5:])"
   ]
  },
  {
   "cell_type": "code",
   "execution_count": 12,
   "id": "aaacafab",
   "metadata": {},
   "outputs": [],
   "source": [
    "# リスト内包表記を用いて文字列のリストを整数のリストに変換\n",
    "ques_ini_num = [int(item) for item in ques_ini_num]\n",
    "\n",
    "# 開始日付を定義\n",
    "start_date = datetime(2024, 4, 3)\n",
    "\n",
    "# 各問題番号とその日付を格納するリスト\n",
    "dates_for_questions = []\n",
    "\n",
    "# 各セットとその中の各問題に対して処理\n",
    "for i, start_number in enumerate(ques_ini_num):\n",
    "    for offset in range(60):  # 各セットは60問を含む\n",
    "        question_date = start_date + timedelta(days=i*60 + offset)  # 日付を計算\n",
    "        question_number = start_number + offset  # 問題番号を計算\n",
    "        dates_for_questions.append((question_number, question_date.strftime('%Y/%m/%d')))"
   ]
  },
  {
   "cell_type": "code",
   "execution_count": null,
   "id": "116935f3",
   "metadata": {},
   "outputs": [],
   "source": [
    "for i in ques_ini_num:\n",
    "    i = int(i)\n",
    "    for j in range(i, i + 59):     \n",
    "        url = 'https://kakomonn.com/keamane/questions/' + str(j)\n",
    "        soup = get_soup(url)\n",
    "\n",
    "        txt = \"\"\n",
    "        # タイトルを取得\n",
    "        title = soup.find(\"h1\", class_=\"ctr_h1\").text\n",
    "        txt += title + \"\\n\"\n",
    "\n",
    "        # 質問文を取得\n",
    "        question = soup.find(\"div\", class_=\"centerbody01_24\").text\n",
    "        txt += question + \"\\n\"\n",
    "\n",
    "        # 選択肢を取得\n",
    "        options = [option.text.strip() for option in soup.find_all(\"div\", class_=\"centerbody01_26\")]\n",
    "        for i, option in enumerate(options, 1):\n",
    "            txt += f\"{i}. {option}\" + \"\\n\"\n",
    "\n",
    "        txt += url + \"\\n\"\n",
    "        print(txt)"
   ]
  }
 ],
 "metadata": {
  "accelerator": "GPU",
  "colab": {
   "gpuType": "A100",
   "machine_shape": "hm",
   "provenance": []
  },
  "kernelspec": {
   "display_name": "Python 3 (ipykernel)",
   "language": "python",
   "name": "python3"
  },
  "language_info": {
   "codemirror_mode": {
    "name": "ipython",
    "version": 3
   },
   "file_extension": ".py",
   "mimetype": "text/x-python",
   "name": "python",
   "nbconvert_exporter": "python",
   "pygments_lexer": "ipython3",
   "version": "3.10.0"
  },
  "widgets": {
   "application/vnd.jupyter.widget-state+json": {
    "state": {},
    "version_major": 2,
    "version_minor": 0
   }
  }
 },
 "nbformat": 4,
 "nbformat_minor": 5
}
